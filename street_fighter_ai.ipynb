{
 "cells": [
  {
   "cell_type": "markdown",
   "metadata": {},
   "source": [
    "## Import Libraries"
   ]
  },
  {
   "cell_type": "code",
   "execution_count": 11,
   "metadata": {},
   "outputs": [],
   "source": [
    "import retro"
   ]
  },
  {
   "cell_type": "code",
   "execution_count": 6,
   "metadata": {},
   "outputs": [
    {
     "name": "stdout",
     "output_type": "stream",
     "text": [
      "Importing StreetFighterIISpecialChampionEdition-Genesis\n",
      "Imported 1 games\n"
     ]
    }
   ],
   "source": [
    "#Search for ROMS\n",
    "!python -m retro.import ."
   ]
  },
  {
   "cell_type": "code",
   "execution_count": 13,
   "metadata": {},
   "outputs": [
    {
     "ename": "AttributeError",
     "evalue": "module 'retro' has no attribute 'make'",
     "output_type": "error",
     "traceback": [
      "\u001b[1;31m---------------------------------------------------------------------------\u001b[0m",
      "\u001b[1;31mAttributeError\u001b[0m                            Traceback (most recent call last)",
      "Cell \u001b[1;32mIn[13], line 2\u001b[0m\n\u001b[0;32m      1\u001b[0m \u001b[38;5;66;03m#Loads the game env\u001b[39;00m\n\u001b[1;32m----> 2\u001b[0m env\u001b[38;5;241m=\u001b[39m\u001b[43mretro\u001b[49m\u001b[38;5;241;43m.\u001b[39;49m\u001b[43mmake\u001b[49m(game\u001b[38;5;241m=\u001b[39m\u001b[38;5;124m'\u001b[39m\u001b[38;5;124mStreetFighterIISpecialChampionEdition-Genesis\u001b[39m\u001b[38;5;124m'\u001b[39m)\n",
      "\u001b[1;31mAttributeError\u001b[0m: module 'retro' has no attribute 'make'"
     ]
    }
   ],
   "source": [
    "#Loads the game env\n",
    "env=retro.make(game='StreetFighterIISpecialChampionEdition-Genesis')"
   ]
  },
  {
   "cell_type": "code",
   "execution_count": 8,
   "metadata": {},
   "outputs": [
    {
     "ename": "NameError",
     "evalue": "name 'env' is not defined",
     "output_type": "error",
     "traceback": [
      "\u001b[1;31m---------------------------------------------------------------------------\u001b[0m",
      "\u001b[1;31mNameError\u001b[0m                                 Traceback (most recent call last)",
      "Cell \u001b[1;32mIn[8], line 2\u001b[0m\n\u001b[0;32m      1\u001b[0m \u001b[38;5;66;03m#Close the env\u001b[39;00m\n\u001b[1;32m----> 2\u001b[0m \u001b[43menv\u001b[49m\u001b[38;5;241m.\u001b[39mclose()\n",
      "\u001b[1;31mNameError\u001b[0m: name 'env' is not defined"
     ]
    }
   ],
   "source": [
    "#Close the env\n",
    "env.close()"
   ]
  },
  {
   "cell_type": "code",
   "execution_count": null,
   "metadata": {},
   "outputs": [
    {
     "data": {
      "text/plain": [
       "array([0, 0, 1, 1, 1, 0, 1, 1, 0, 0, 1, 1], dtype=int8)"
      ]
     },
     "execution_count": 13,
     "metadata": {},
     "output_type": "execute_result"
    }
   ],
   "source": [
    "#See the posible imputs that it could have\n",
    "env.action_space.sample()"
   ]
  },
  {
   "cell_type": "code",
   "execution_count": 15,
   "metadata": {},
   "outputs": [
    {
     "ename": "SyntaxError",
     "evalue": "invalid syntax (com.py, line 200)",
     "output_type": "error",
     "traceback": [
      "Traceback \u001b[1;36m(most recent call last)\u001b[0m:\n",
      "  File \u001b[0;32m\"c:\\Users\\saenz\\.conda\\envs\\sf_ai\\lib\\site-packages\\IPython\\core\\interactiveshell.py\"\u001b[0m, line \u001b[0;32m3553\u001b[0m, in \u001b[0;35mrun_code\u001b[0m\n    exec(code_obj, self.user_global_ns, self.user_ns)\n",
      "  File \u001b[0;32m\"C:\\Users\\saenz\\AppData\\Local\\Temp\\ipykernel_30936\\379112904.py\"\u001b[0m, line \u001b[0;32m9\u001b[0m, in \u001b[0;35m<module>\u001b[0m\n    env.render()\n",
      "  File \u001b[0;32m\"c:\\Users\\saenz\\.conda\\envs\\sf_ai\\lib\\site-packages\\retro\\retro_env.py\"\u001b[0m, line \u001b[0;32m228\u001b[0m, in \u001b[0;35mrender\u001b[0m\n    from gym.envs.classic_control.rendering import SimpleImageViewer\n",
      "  File \u001b[0;32m\"c:\\Users\\saenz\\.conda\\envs\\sf_ai\\lib\\site-packages\\gym\\envs\\classic_control\\rendering.py\"\u001b[0m, line \u001b[0;32m27\u001b[0m, in \u001b[0;35m<module>\u001b[0m\n    from pyglet.gl import *\n",
      "  File \u001b[0;32m\"c:\\Users\\saenz\\.conda\\envs\\sf_ai\\lib\\site-packages\\pyglet\\gl\\__init__.py\"\u001b[0m, line \u001b[0;32m219\u001b[0m, in \u001b[0;35m<module>\u001b[0m\n    from .win32 import Win32Config as Config\n",
      "  File \u001b[0;32m\"c:\\Users\\saenz\\.conda\\envs\\sf_ai\\lib\\site-packages\\pyglet\\gl\\win32.py\"\u001b[0m, line \u001b[0;32m36\u001b[0m, in \u001b[0;35m<module>\u001b[0m\n    from pyglet.canvas.win32 import Win32Canvas\n",
      "  File \u001b[0;32m\"c:\\Users\\saenz\\.conda\\envs\\sf_ai\\lib\\site-packages\\pyglet\\canvas\\__init__.py\"\u001b[0m, line \u001b[0;32m110\u001b[0m, in \u001b[0;35m<module>\u001b[0m\n    from pyglet.canvas.win32 import Win32Display as Display\n",
      "  File \u001b[0;32m\"c:\\Users\\saenz\\.conda\\envs\\sf_ai\\lib\\site-packages\\pyglet\\canvas\\win32.py\"\u001b[0m, line \u001b[0;32m3\u001b[0m, in \u001b[0;35m<module>\u001b[0m\n    from pyglet.libs.win32 import _user32\n",
      "\u001b[1;36m  File \u001b[1;32m\"c:\\Users\\saenz\\.conda\\envs\\sf_ai\\lib\\site-packages\\pyglet\\libs\\win32\\__init__.py\"\u001b[1;36m, line \u001b[1;32m41\u001b[1;36m, in \u001b[1;35m<module>\u001b[1;36m\u001b[0m\n\u001b[1;33m    from . import com\u001b[0m\n",
      "\u001b[1;36m  File \u001b[1;32m\"c:\\Users\\saenz\\.conda\\envs\\sf_ai\\lib\\site-packages\\pyglet\\libs\\win32\\com.py\"\u001b[1;36m, line \u001b[1;32m200\u001b[0m\n\u001b[1;33m    def __init__(self, name, bases, dct, /, create_pointer_type=True) -> None:\u001b[0m\n\u001b[1;37m                                         ^\u001b[0m\n\u001b[1;31mSyntaxError\u001b[0m\u001b[1;31m:\u001b[0m invalid syntax\n"
     ]
    }
   ],
   "source": [
    "#Put game in first state\n",
    "obs = env.reset()\n",
    "#Flag\n",
    "done = False\n",
    "for game in range(1):\n",
    "    while not done:\n",
    "        if done:\n",
    "            obs=env.reset()\n",
    "        env.render()\n",
    "        obs, reward, done, info = env.step(env.action_space.sample())\n",
    "        print(reward)"
   ]
  }
 ],
 "metadata": {
  "kernelspec": {
   "display_name": "sf_ai",
   "language": "python",
   "name": "python3"
  },
  "language_info": {
   "codemirror_mode": {
    "name": "ipython",
    "version": 3
   },
   "file_extension": ".py",
   "mimetype": "text/x-python",
   "name": "python",
   "nbconvert_exporter": "python",
   "pygments_lexer": "ipython3",
   "version": "3.8.20"
  }
 },
 "nbformat": 4,
 "nbformat_minor": 2
}
